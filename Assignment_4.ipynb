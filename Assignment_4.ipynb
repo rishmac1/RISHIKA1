{
  "nbformat": 4,
  "nbformat_minor": 0,
  "metadata": {
    "colab": {
      "provenance": [],
      "authorship_tag": "ABX9TyO6G+PIsU6Swuyx9ecivu2S",
      "include_colab_link": true
    },
    "kernelspec": {
      "name": "python3",
      "display_name": "Python 3"
    },
    "language_info": {
      "name": "python"
    }
  },
  "cells": [
    {
      "cell_type": "markdown",
      "metadata": {
        "id": "view-in-github",
        "colab_type": "text"
      },
      "source": [
        "<a href=\"https://colab.research.google.com/github/rishmac1/RISHIKA1/blob/main/Assignment_4.ipynb\" target=\"_parent\"><img src=\"https://colab.research.google.com/assets/colab-badge.svg\" alt=\"Open In Colab\"/></a>"
      ]
    },
    {
      "cell_type": "code",
      "execution_count": null,
      "metadata": {
        "colab": {
          "base_uri": "https://localhost:8080/"
        },
        "id": "n71_qtxxECyE",
        "outputId": "e86350df-6f6e-4d5f-99ca-29ebc4c7b3f0"
      },
      "outputs": [
        {
          "output_type": "stream",
          "name": "stdout",
          "text": [
            "   P1  P2  Class\n",
            "0   7   7  False\n",
            "1   7   4  False\n",
            "2   3   4   True\n",
            "3   1   4   True\n",
            "   P1  P2\n",
            "0   3   7\n",
            "['True']\n"
          ]
        }
      ],
      "source": [
        "from sklearn.neighbors import KNeighborsClassifier\n",
        "import pandas as pd\n",
        "\n",
        "column1=['P1','P2','Class']\n",
        "column2=['P1','P2']\n",
        "h1=[[7,7,'False'],[7,4,'False'],[3,4,'True'],[1,4,'True']]\n",
        "h2=[[3,7]]\n",
        "df1=pd.DataFrame(h1,columns=column1)\n",
        "df2=pd.DataFrame(h2,columns=column2)\n",
        "\n",
        "X_train=df1.drop(columns='Class')\n",
        "Y_train=df1['Class'].values\n",
        "\n",
        "knn=KNeighborsClassifier(n_neighbors=3)\n",
        "knn.fit(X_train,Y_train)\n",
        "\n",
        "print(df1)\n",
        "print(df2)\n",
        "print(knn.predict(df2))"
      ]
    },
    {
      "cell_type": "code",
      "source": [
        "from sklearn.naive_bayes import GaussianNB\n",
        "import pandas as pd\n",
        "\n",
        "column1=['Color','Type','Origin','Stolen']\n",
        "column2=['Color','Type','Origin']\n",
        "h1=[['Red','Sports','Domestic','Yes'],['Red','Sports','Domestic','No'],['Red','Sports','Domestic','Yes'],['Yellow','Sports','Domestic','No'],['Yellow','Sports','Imported','Yes'],['Yellow','SUV','Imported','No'],['Yellow','SUV','Imported','Yes'],['Yellow','SUV','Domestic','No'],['Red','SUV','Imported','No'],['Red','SUV','Imported','Yes']]\n",
        "h2=[['Red','SUV','Domestic']]\n",
        "df1=pd.DataFrame(h1,columns=column1)\n",
        "df2=pd.DataFrame(h2,columns=column2)\n",
        "\n",
        "print(df1)\n",
        "print(df2)\n",
        "\n",
        "df1[df1=='Red']=1\n",
        "df1[df1=='Yellow']=2\n",
        "df1[df1=='Sports']=3\n",
        "df1[df1=='SUV']=4\n",
        "df1[df1=='Domestic']=5\n",
        "df1[df1=='Imported']=6\n",
        "df2[df2=='Red']=1\n",
        "df2[df2=='SUV']=4\n",
        "df2[df2=='Domestic']=5\n",
        "\n",
        "X_train=df1.drop(columns='Stolen')\n",
        "Y_train=df1['Stolen'].values\n",
        "\n",
        "NB=GaussianNB()\n",
        "NB.fit(X_train,Y_train)\n",
        "\n",
        "print(NB.predict(df2))"
      ],
      "metadata": {
        "colab": {
          "base_uri": "https://localhost:8080/"
        },
        "id": "Q1JXgGh4Bp7E",
        "outputId": "57194a83-0425-4c4b-951f-dd7b266c7acf"
      },
      "execution_count": null,
      "outputs": [
        {
          "output_type": "stream",
          "name": "stdout",
          "text": [
            "    Color    Type    Origin Stolen\n",
            "0     Red  Sports  Domestic    Yes\n",
            "1     Red  Sports  Domestic     No\n",
            "2     Red  Sports  Domestic    Yes\n",
            "3  Yellow  Sports  Domestic     No\n",
            "4  Yellow  Sports  Imported    Yes\n",
            "5  Yellow     SUV  Imported     No\n",
            "6  Yellow     SUV  Imported    Yes\n",
            "7  Yellow     SUV  Domestic     No\n",
            "8     Red     SUV  Imported     No\n",
            "9     Red     SUV  Imported    Yes\n",
            "  Color Type    Origin\n",
            "0   Red  SUV  Domestic\n",
            "['No']\n"
          ]
        }
      ]
    }
  ]
}