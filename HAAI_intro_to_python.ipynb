{
  "nbformat": 4,
  "nbformat_minor": 0,
  "metadata": {
    "colab": {
      "provenance": [],
      "include_colab_link": true
    },
    "kernelspec": {
      "name": "python3",
      "display_name": "Python 3"
    },
    "language_info": {
      "name": "python"
    }
  },
  "cells": [
    {
      "cell_type": "markdown",
      "metadata": {
        "id": "view-in-github",
        "colab_type": "text"
      },
      "source": [
        "<a href=\"https://colab.research.google.com/github/rishmac1/RISHIKA1/blob/main/HAAI_intro_to_python.ipynb\" target=\"_parent\"><img src=\"https://colab.research.google.com/assets/colab-badge.svg\" alt=\"Open In Colab\"/></a>"
      ]
    },
    {
      "cell_type": "markdown",
      "source": [
        "# **AI4ICPS Hands on AI (HAAI) 2023**\n",
        "\n"
      ],
      "metadata": {
        "id": "cnqOJYx6TC4D"
      }
    },
    {
      "cell_type": "markdown",
      "source": [
        "## **Introduction to Python**"
      ],
      "metadata": {
        "id": "ZniEKPsHO_hs"
      }
    },
    {
      "cell_type": "markdown",
      "source": [
        "**Instructions:**\n",
        "1. Go to file option on the menu bar and select 'Make a copy in Drive'\n",
        "2. Edit and run codes on the copied file.\n",
        "\n",
        "In case of any doubts, feel free to clarify"
      ],
      "metadata": {
        "id": "B1UppHOzo9Kr"
      }
    },
    {
      "cell_type": "markdown",
      "source": [
        "**Topics we will cover today:**\n",
        "1. Basic data types and structures\n",
        "2. Functions and Classes\n",
        "3. Basics of numpy arrays\n",
        "4. Basics of Pandas library\n",
        "5. Basics of Matplotlib"
      ],
      "metadata": {
        "id": "cm_4ctDGc8rc"
      }
    },
    {
      "cell_type": "markdown",
      "source": [
        "**Section 1**. Basic Data types"
      ],
      "metadata": {
        "id": "gnxcLxoeiIq2"
      }
    },
    {
      "cell_type": "code",
      "source": [
        "x = 3\n",
        "print(type(x)) # Prints \"<class 'int'>\"\n",
        "y = 2.5\n",
        "print(type(y)) # Prints \"<class 'float'>\"\n",
        "a = True\n",
        "print(type(a))\n",
        "b = \"abc\"\n",
        "print(type(b))"
      ],
      "metadata": {
        "id": "d--tWhbJiVQN",
        "colab": {
          "base_uri": "https://localhost:8080/"
        },
        "outputId": "b0acc88b-f5e5-4e4c-f2bc-05cb342d6111"
      },
      "execution_count": null,
      "outputs": [
        {
          "output_type": "stream",
          "name": "stdout",
          "text": [
            "<class 'int'>\n",
            "<class 'float'>\n",
            "<class 'bool'>\n",
            "<class 'str'>\n"
          ]
        }
      ]
    },
    {
      "cell_type": "code",
      "source": [
        "b = \"123\""
      ],
      "metadata": {
        "id": "s_Hh4AMgpAdb"
      },
      "execution_count": null,
      "outputs": []
    },
    {
      "cell_type": "code",
      "source": [
        "type(b)"
      ],
      "metadata": {
        "id": "3_4Keuwrm66i",
        "colab": {
          "base_uri": "https://localhost:8080/"
        },
        "outputId": "0e4da059-395b-4d63-a911-84168a4859ed"
      },
      "execution_count": null,
      "outputs": [
        {
          "output_type": "execute_result",
          "data": {
            "text/plain": [
              "str"
            ]
          },
          "metadata": {},
          "execution_count": 3
        }
      ]
    },
    {
      "cell_type": "markdown",
      "source": [
        "**Section 1.1** Operations on basic datatypes"
      ],
      "metadata": {
        "id": "wbexK2jciy4-"
      }
    },
    {
      "cell_type": "code",
      "source": [
        "# print(x + 1)\n",
        "# print(x > 1)\n",
        "print(x)\n",
        "# print(x * 2)\n",
        "# print(x ** 2)\n",
        "# print(7 / 2)\n",
        "# print(7 // 2)\n",
        "x = 3\n",
        "print(x == True)\n",
        "print(a == True)"
      ],
      "metadata": {
        "id": "8sWqmglQiHk7",
        "colab": {
          "base_uri": "https://localhost:8080/"
        },
        "outputId": "5e9736e5-5d07-4375-fff5-e8e021bf23b6"
      },
      "execution_count": null,
      "outputs": [
        {
          "output_type": "stream",
          "name": "stdout",
          "text": [
            "1\n",
            "False\n",
            "True\n"
          ]
        }
      ]
    },
    {
      "cell_type": "markdown",
      "source": [
        "= and ==\n",
        "= is an assignment\n",
        "\n",
        "x = 6\n",
        "\n",
        "== is used for comparison\n",
        "\n",
        "x = 6\n",
        "and y =7\n",
        "\n",
        "print(x ==y"
      ],
      "metadata": {
        "id": "UeVQy8CIP6MM"
      }
    },
    {
      "cell_type": "code",
      "source": [
        "x = 6\n",
        "y = 9\n",
        "print(x==y)\n",
        "\n",
        "# * operation is multiplication\n",
        "# x^2 ** is the exponential operation\n",
        "\n",
        "print(x**1.2)"
      ],
      "metadata": {
        "id": "V0zNE0WPQSA9"
      },
      "execution_count": null,
      "outputs": []
    },
    {
      "cell_type": "markdown",
      "source": [
        "## **Section 2**. In-built data structures"
      ],
      "metadata": {
        "id": "wTpiaArKjMOo"
      }
    },
    {
      "cell_type": "markdown",
      "source": [
        "##  Lists"
      ],
      "metadata": {
        "id": "kJAOrPX7jgHp"
      }
    },
    {
      "cell_type": "code",
      "source": [
        "xs = [3, 1, 2, 3, 9, 10, 89]    # Create a list\n",
        "# xs\n",
        "# print(xs[0])\n",
        "# print(xs, xs[2])  # Prints \"[3, 1, 2] 2\"\n",
        "# print(xs[-1])     # Negative indices count from the end of the list; prints \"2\"\n",
        "# print(type(xs[0]))\n",
        "\n",
        "# print(\"**************\")\n",
        "\n",
        "# xs[-3] = 'rakshith'     # Lists can contain elements of different types\n",
        "# print(xs)\n",
        "# print(type(xs[-3]))\n",
        "# print(\"*****\")\n",
        "\n",
        "# xs.append('bar')  # Add a new element to the end of the list\n",
        "# print(xs)\n",
        "# x = xs.pop()      # Remove and return the last element of the list\n",
        "# print(x)\n",
        "# print(xs)\n",
        "\n",
        "print(len(xs))\n",
        "#count() -> returns the number of times a value repeats inside the list"
      ],
      "metadata": {
        "id": "jJNVxyTYjTDS"
      },
      "execution_count": null,
      "outputs": []
    },
    {
      "cell_type": "markdown",
      "source": [
        "## List slicing"
      ],
      "metadata": {
        "id": "yxliQNeKjxmS"
      }
    },
    {
      "cell_type": "code",
      "source": [
        "nums = list(range(5))     # range is a built-in function that creates a list of integers\n",
        "print(nums[:2])\n",
        "print(nums)              # Prints \"[0, 1, 2, 3, 4]\"\n",
        "# print(nums[1:4:2])          # Get a slice from index 2 to 4 (exclusive); prints \"[2, 3]\"\n",
        "print(nums[2:])           # Get a slice from index 2 to the end; prints \"[2, 3, 4]\"\n",
        "# print(nums[:2])           # Get a slice from the start to index 2 (exclusive); prints \"[0, 1]\"\n",
        "# print(nums[:])            # Get a slice of the whole list; prints \"[0, 1, 2, 3, 4]\"\n",
        "print(nums[:-1])          # Slice indices can be negative; prints \"[0, 1, 2, 3]\"\n",
        "# nums[9:12] = [8, 9,10]        # Assign a new sublist to a slice\n",
        "# print(nums)\n",
        "# print(nums[7])"
      ],
      "metadata": {
        "id": "OnTAwSTCj0SY",
        "colab": {
          "base_uri": "https://localhost:8080/"
        },
        "outputId": "5ea626d0-6750-4f42-cbd4-4fc5d0ac9af8"
      },
      "execution_count": null,
      "outputs": [
        {
          "output_type": "stream",
          "name": "stdout",
          "text": [
            "[0, 1]\n",
            "[0, 1, 2, 3, 4]\n",
            "[2, 3, 4]\n",
            "[0, 1, 2, 3]\n"
          ]
        }
      ]
    },
    {
      "cell_type": "code",
      "source": [
        "print(nums[1:4])"
      ],
      "metadata": {
        "id": "iIZkWhHLp5M1",
        "colab": {
          "base_uri": "https://localhost:8080/"
        },
        "outputId": "75f338d1-1678-4cb7-d738-ff48086719d7"
      },
      "execution_count": null,
      "outputs": [
        {
          "output_type": "stream",
          "name": "stdout",
          "text": [
            "[1, 2, 3]\n"
          ]
        }
      ]
    },
    {
      "cell_type": "code",
      "source": [
        "print(nums[1:4:2])"
      ],
      "metadata": {
        "id": "MdAHG9xPp8Ej",
        "colab": {
          "base_uri": "https://localhost:8080/"
        },
        "outputId": "acff2994-ae20-4c6e-882b-79b5715049d9"
      },
      "execution_count": null,
      "outputs": [
        {
          "output_type": "stream",
          "name": "stdout",
          "text": [
            "[1, 3]\n"
          ]
        }
      ]
    },
    {
      "cell_type": "markdown",
      "source": [
        "### Loops"
      ],
      "metadata": {
        "id": "7rYb5ZHzj3Pz"
      }
    },
    {
      "cell_type": "code",
      "source": [
        "animals = ['cat', 'dog', 'monkey']\n",
        "for x in animals:\n",
        "  print(x)\n",
        "\n",
        "\n",
        "\n",
        "# print(\"********************************\")\n",
        "\n",
        "animals = ['cat', 'dog', 'monkey']\n",
        "for idx, animal in enumerate(animals):\n",
        "    print('#%d: %s' % (idx, animal))"
      ],
      "metadata": {
        "id": "xIRiYMCpj5j0",
        "colab": {
          "base_uri": "https://localhost:8080/"
        },
        "outputId": "4c7fa3a6-e825-4f1e-a2a7-273a26731a7b"
      },
      "execution_count": null,
      "outputs": [
        {
          "output_type": "stream",
          "name": "stdout",
          "text": [
            "cat\n",
            "dog\n",
            "monkey\n",
            "#0: cat\n",
            "#1: dog\n",
            "#2: monkey\n"
          ]
        }
      ]
    },
    {
      "cell_type": "code",
      "source": [
        "nums = [0,1,2,3,4, 'string1']\n",
        "for i in nums:\n",
        "  print(i)\n",
        "\n",
        "print(\"******************\")\n",
        "for idx, elem in enumerate(nums):\n",
        "  print(idx, elem)"
      ],
      "metadata": {
        "id": "qMAN7_nHqxrW",
        "colab": {
          "base_uri": "https://localhost:8080/"
        },
        "outputId": "2254cc36-32e2-4f9f-aee2-d1c9fe4a3507"
      },
      "execution_count": null,
      "outputs": [
        {
          "output_type": "stream",
          "name": "stdout",
          "text": [
            "0\n",
            "1\n",
            "2\n",
            "3\n",
            "4\n",
            "string1\n",
            "******************\n",
            "0 0\n",
            "1 1\n",
            "2 2\n",
            "3 3\n",
            "4 4\n",
            "5 string1\n"
          ]
        }
      ]
    },
    {
      "cell_type": "code",
      "source": [
        "l = ['a','b','c','d','e']\n",
        "for i in l:\n",
        "  print(i)"
      ],
      "metadata": {
        "id": "i9iRtIRGrPI7",
        "colab": {
          "base_uri": "https://localhost:8080/"
        },
        "outputId": "59ab73c8-d4f8-4be1-d61c-c0d220241c3c"
      },
      "execution_count": null,
      "outputs": [
        {
          "output_type": "stream",
          "name": "stdout",
          "text": [
            "a\n",
            "b\n",
            "c\n",
            "d\n",
            "e\n"
          ]
        }
      ]
    },
    {
      "cell_type": "markdown",
      "source": [
        "### List comprehensions"
      ],
      "metadata": {
        "id": "GaIMiFqqkFou"
      }
    },
    {
      "cell_type": "code",
      "source": [
        "nums = [0, 1, 2, 3, 4]\n",
        "squares = []\n",
        "for x in nums:\n",
        "    squares.append(x ** 2)\n",
        "print(squares)   # Prints [0, 1, 4, 9, 16]"
      ],
      "metadata": {
        "id": "LGZEr7KzkCTo",
        "colab": {
          "base_uri": "https://localhost:8080/"
        },
        "outputId": "aae49a28-ee11-4a96-a721-c11673350fe2"
      },
      "execution_count": null,
      "outputs": [
        {
          "output_type": "stream",
          "name": "stdout",
          "text": [
            "[0, 1, 4, 9, 16]\n"
          ]
        }
      ]
    },
    {
      "cell_type": "code",
      "source": [
        "nums = [0, 1, 2, 3, 4]\n",
        "squares = [x ** 2 for x in nums]\n",
        "print(squares)   # Prints [0, 1, 4, 9, 16]"
      ],
      "metadata": {
        "id": "4lOQRZXFkJrX",
        "colab": {
          "base_uri": "https://localhost:8080/"
        },
        "outputId": "cf4e8cf9-4a7c-4118-e6a1-73799f93062a"
      },
      "execution_count": null,
      "outputs": [
        {
          "output_type": "stream",
          "name": "stdout",
          "text": [
            "[0, 1, 4, 9, 16]\n"
          ]
        }
      ]
    },
    {
      "cell_type": "code",
      "source": [
        "nums = [0, 1, 2, 3, 4]\n",
        "even_squares = [x ** 2 for x in nums if x % 2 == 0]\n",
        "print(even_squares)  # Prints \"[0, 4, 16]\""
      ],
      "metadata": {
        "id": "k1zTQjJnkLmb",
        "colab": {
          "base_uri": "https://localhost:8080/"
        },
        "outputId": "f917dc8b-2bfe-4bec-930d-f11f11d2fed9"
      },
      "execution_count": null,
      "outputs": [
        {
          "output_type": "stream",
          "name": "stdout",
          "text": [
            "[0, 4, 16]\n"
          ]
        }
      ]
    },
    {
      "cell_type": "markdown",
      "source": [
        "## **B.** Tuples"
      ],
      "metadata": {
        "id": "fCEy40dZlLyy"
      }
    },
    {
      "cell_type": "code",
      "source": [
        "t = (5, 6)        # Create a tuple\n",
        "print(type(t))    # Prints \"<class 'tuple'>\"\n",
        "print(t[0])       # Prints \"5\"\n",
        "\n",
        "list_a = [(5,6),(3,7),[1,2,3,4,5],(2,3),'abcd']\n",
        "list_a\n",
        "\n",
        "\n"
      ],
      "metadata": {
        "id": "gqEghN0XlNR9",
        "colab": {
          "base_uri": "https://localhost:8080/"
        },
        "outputId": "dda19e9b-2f10-405f-86b5-58379c4d7e95"
      },
      "execution_count": null,
      "outputs": [
        {
          "output_type": "stream",
          "name": "stdout",
          "text": [
            "<class 'tuple'>\n",
            "5\n"
          ]
        },
        {
          "output_type": "execute_result",
          "data": {
            "text/plain": [
              "[(5, 6), (3, 7), [1, 2, 3, 4, 5], (2, 3), 'abcd']"
            ]
          },
          "metadata": {},
          "execution_count": 59
        }
      ]
    },
    {
      "cell_type": "code",
      "source": [
        "l = [('ashraf',29), ('Rakshith',26)]"
      ],
      "metadata": {
        "id": "6CyGJ-ezsSFn"
      },
      "execution_count": null,
      "outputs": []
    },
    {
      "cell_type": "markdown",
      "source": [
        "## **C.** Dictionaries"
      ],
      "metadata": {
        "id": "i5mNBN_4kdjB"
      }
    },
    {
      "cell_type": "markdown",
      "source": [
        "Key-value pair.\n",
        "Keys are all unique.\n",
        "{0:1, 1:2, 2:3}"
      ],
      "metadata": {
        "id": "G5Fmc-9Rs3F8"
      }
    },
    {
      "cell_type": "code",
      "source": [
        "d = {'cat': 'cute', 'dog': 'furry'}  # Create a new dictionary with some data\n",
        "print(d['dog'])       # Get an entry from a dictionary; prints \"cute\"\n",
        "print(d.get('cat'))\n",
        "\n",
        "print(\"************\")\n",
        "print('mat' in d)     # Check if a dictionary has a given key; prints \"True\"\n",
        "d['fish'] = 'wet'     # Set an entry in a dictionary\n",
        "\n",
        "print(d)\n",
        "\n",
        "# print(\"******\")\n",
        "# d.pop('fish')\n",
        "# print(d)\n",
        "\n",
        "# del d['cat']\n",
        "# print(d)\n",
        "\n",
        "\n",
        "# print(d['fish'])      # Prints \"wet\"\n",
        "# # print(d['monkey'])  # KeyError: 'monkey' not a key of d\n",
        "# print(d.get('monkey', 'N/A'))  # Get an element with a default; prints \"N/A\"\n",
        "# print(d.get('fish', 'N/A'))    # Get an element with a default; prints \"wet\"\n",
        "# del d['fish']         # Remove an element from a dictionary\n",
        "# print(d.get('fish', 'N/A')) # \"fish\" is no longer a key; prints \"N/A\""
      ],
      "metadata": {
        "id": "FS3Z2MWmkcgc",
        "colab": {
          "base_uri": "https://localhost:8080/"
        },
        "outputId": "490e0503-da86-4d84-dea0-b149dc0793f2"
      },
      "execution_count": null,
      "outputs": [
        {
          "output_type": "stream",
          "name": "stdout",
          "text": [
            "furry\n",
            "cute\n",
            "************\n",
            "False\n",
            "{'cat': 'cute', 'dog': 'furry', 'fish': 'wet'}\n"
          ]
        }
      ]
    },
    {
      "cell_type": "code",
      "source": [
        "#{0:0, 1:1,2:4,3:9,4:16,5:25} ->"
      ],
      "metadata": {
        "id": "N2NxqBKNuJOQ"
      },
      "execution_count": null,
      "outputs": []
    },
    {
      "cell_type": "markdown",
      "source": [
        "Loops"
      ],
      "metadata": {
        "id": "kdC6e9efkldN"
      }
    },
    {
      "cell_type": "code",
      "source": [
        "d = {'person': 2, 'cat': 4, 'spider': 8}\n",
        "for animal in d:\n",
        "    legs = d[animal]\n",
        "    print('A %s has %d legs' % (animal, legs))\n",
        "# Prints \"A person has 2 legs\", \"A cat has 4 legs\", \"A spider has 8 legs\"\n",
        "\n",
        "print(\"*******************************\")\n",
        "\n",
        "d = {'person': 2, 'cat': 4, 'spider': 8}\n",
        "for animal, legs in d.items():\n",
        "    print('A %s has %d legs' % (animal, legs))\n",
        "# Prints \"A person has 2 legs\", \"A cat has 4 legs\", \"A spider has 8 legs\"\n",
        "\n",
        "print(\"******************************\")\n",
        "\n"
      ],
      "metadata": {
        "id": "6rQD-GyIkjYj",
        "colab": {
          "base_uri": "https://localhost:8080/"
        },
        "outputId": "c4a3857e-e209-4137-e63e-6f626d0b477a"
      },
      "execution_count": null,
      "outputs": [
        {
          "output_type": "stream",
          "name": "stdout",
          "text": [
            "A person has 2 legs\n",
            "A cat has 4 legs\n",
            "A spider has 8 legs\n",
            "*******************************\n",
            "A person has 2 legs\n",
            "A cat has 4 legs\n",
            "A spider has 8 legs\n",
            "******************************\n"
          ]
        }
      ]
    },
    {
      "cell_type": "markdown",
      "source": [
        "Dictionary comprehension"
      ],
      "metadata": {
        "id": "nQnY-V6Vkwc3"
      }
    },
    {
      "cell_type": "code",
      "source": [
        "nums = [0, 1, 2, 3, 4]\n",
        "even_num_to_square = {x: x ** 2 for x in nums if x % 2 == 0}\n",
        "print(even_num_to_square)  # Prints \"{0: 0, 2: 4, 4: 16}\""
      ],
      "metadata": {
        "id": "TGUSKtIHky3f",
        "colab": {
          "base_uri": "https://localhost:8080/"
        },
        "outputId": "e74e2209-cb1a-400e-eeb9-4e07f6bb7739"
      },
      "execution_count": null,
      "outputs": [
        {
          "output_type": "stream",
          "name": "stdout",
          "text": [
            "{0: 0, 2: 4, 4: 16}\n"
          ]
        }
      ]
    },
    {
      "cell_type": "markdown",
      "source": [
        "## **D.** Sets"
      ],
      "metadata": {
        "id": "n48fWIpck4E-"
      }
    },
    {
      "cell_type": "markdown",
      "source": [
        "Introduction to sets"
      ],
      "metadata": {
        "id": "SGFFeg34k8Sy"
      }
    },
    {
      "cell_type": "code",
      "source": [
        "animals = {'cat', 'dog'}\n",
        "\n",
        "# print('cat' in animals)   # Check if an element is in a set; prints \"True\"\n",
        "# print('fish' in animals)  # prints \"False\"\n",
        "animals.add('fish')       # Add an element to a set\n",
        "print('fish' in animals)  # Prints \"True\"\n",
        "# print(len(animals))       # Number of elements in a set; prints \"3\"\n",
        "animals.add('cat')        # Adding an element that is already in the set does nothing\n",
        "# print(len(animals))       # Prints \"3\"\n",
        "# animals.remove('cat')     # Remove an element from a set\n",
        "# print(len(animals))       # Prints \"2\"\n",
        "animals.add('mouse')\n",
        "animals.add('elephant')\n",
        "animals.add('zebra')\n",
        "print(animals)"
      ],
      "metadata": {
        "id": "EoIW1Pr1k5bq",
        "colab": {
          "base_uri": "https://localhost:8080/"
        },
        "outputId": "7b2d1b4a-4ae8-44a2-ce2d-082c521a969f"
      },
      "execution_count": null,
      "outputs": [
        {
          "output_type": "stream",
          "name": "stdout",
          "text": [
            "True\n",
            "{'dog', 'mouse', 'cat', 'zebra', 'elephant', 'fish'}\n"
          ]
        }
      ]
    },
    {
      "cell_type": "code",
      "source": [
        "animals.add('cat')\n",
        "print(animals)"
      ],
      "metadata": {
        "id": "I7Rm17L6usKp"
      },
      "execution_count": null,
      "outputs": []
    },
    {
      "cell_type": "markdown",
      "source": [
        "Loops"
      ],
      "metadata": {
        "id": "rma6qlrTlAq0"
      }
    },
    {
      "cell_type": "code",
      "source": [
        "animals = {'cat', 'dog', 'fish'}\n",
        "for idx, animal in enumerate(animals):\n",
        "    print('#%d: %s' % (idx + 1, animal))\n",
        "# Prints \"#1: fish\", \"#2: dog\", \"#3: cat\""
      ],
      "metadata": {
        "id": "MiZpw8vkk-Bj"
      },
      "execution_count": null,
      "outputs": []
    },
    {
      "cell_type": "markdown",
      "source": [
        "Set comprehension"
      ],
      "metadata": {
        "id": "KNgzYMMrlF3m"
      }
    },
    {
      "cell_type": "code",
      "source": [
        "from math import sqrt\n",
        "nums = {int(sqrt(x)) for x in range(30)}\n",
        "print(nums)  # Prints \"{0, 1, 2, 3, 4, 5}\""
      ],
      "metadata": {
        "id": "TzRI842ZlH6l"
      },
      "execution_count": null,
      "outputs": []
    },
    {
      "cell_type": "markdown",
      "source": [
        "## **Section 3.** Functions"
      ],
      "metadata": {
        "id": "KLs85LX2pGs2"
      }
    },
    {
      "cell_type": "code",
      "source": [
        "def sign(x):\n",
        "    if x > 0:\n",
        "        return 'positive'\n",
        "    elif x < 0:\n",
        "        return 'negative'\n",
        "    else:\n",
        "        return 'zero'\n",
        "\n",
        "for x in [-2, -4, 0]:\n",
        "    print(sign(x))\n",
        "# Prints \"negative\", \"zero\", \"positive\""
      ],
      "metadata": {
        "id": "dVncn6tKpGAk",
        "colab": {
          "base_uri": "https://localhost:8080/"
        },
        "outputId": "68c2bd9d-c010-49c1-cb87-3eb6bc4c9b62"
      },
      "execution_count": null,
      "outputs": [
        {
          "output_type": "stream",
          "name": "stdout",
          "text": [
            "negative\n",
            "negative\n",
            "zero\n"
          ]
        }
      ]
    },
    {
      "cell_type": "code",
      "source": [
        "def hello(name, loud=False):\n",
        "    if loud:\n",
        "        print('HELLO, %s!' % name.upper())\n",
        "    else:\n",
        "        print('Hello, %s' % name)\n",
        "\n",
        "hello('Bob') # Prints \"Hello, Bob\"\n",
        "hello('Fred', loud=True)  # Prints \"HELLO, FRED!\""
      ],
      "metadata": {
        "id": "mKZTLmFQpMdN"
      },
      "execution_count": null,
      "outputs": []
    },
    {
      "cell_type": "markdown",
      "source": [
        "## **Section  4**. Classes"
      ],
      "metadata": {
        "id": "l_b8yRlppSsV"
      }
    },
    {
      "cell_type": "code",
      "source": [
        "class Greeter(object):\n",
        "\n",
        "    # Constructor\n",
        "    def __init__(self, name):\n",
        "        self.name = name  # Create an instance variable\n",
        "\n",
        "    # Instance method\n",
        "    def greet(self, loud=False):\n",
        "        if loud:\n",
        "            print('HELLO, %s!' % self.name.upper())\n",
        "        else:\n",
        "            print('Hello, %s' % self.name)\n",
        "\n",
        "g = Greeter('Fred')  # Construct an instance of the Greeter class\n",
        "g.greet()            # Call an instance method; prints \"Hello, Fred\"\n",
        "g.greet(loud=True)   # Call an instance method; prints \"HELLO, FRED!\""
      ],
      "metadata": {
        "id": "pSbxX33ipP1N",
        "colab": {
          "base_uri": "https://localhost:8080/"
        },
        "outputId": "8af6c777-c426-4c0b-e674-707be38ef3ac"
      },
      "execution_count": null,
      "outputs": [
        {
          "output_type": "stream",
          "name": "stdout",
          "text": [
            "Hello, Fred\n",
            "HELLO, FRED!\n"
          ]
        }
      ]
    },
    {
      "cell_type": "markdown",
      "source": [
        "## **Section 5**. Numpy Arrays"
      ],
      "metadata": {
        "id": "oJ0OBytFpkMm"
      }
    },
    {
      "cell_type": "code",
      "source": [
        "import numpy as np\n",
        "b = [1,2,3]\n",
        "print(type(b))\n",
        "a = np.array([1, 2, 3])   # Create a rank 1 array\n",
        "print(type(a))            # Prints \"<class 'numpy.ndarray'>\"\n",
        "print(a.shape)            # Prints \"(3,)\"\n",
        "print(a[0], a[1], a[2])   # Prints \"1 2 3\"\n",
        "a[0] = 5                  # Change an element of the array\n",
        "print(a)                  # Prints \"[5, 2, 3]\"\n",
        "\n",
        "b = np.array([[1,2,3],[4,5,6]])    # Create a rank 2 array\n",
        "print(b.shape)                     # Prints \"(2, 3)\"\n",
        "[1,2,3]\n",
        "[4,5,6]\n",
        "print(b[0, 0], b[0, 1], b[1, 0])   # Prints \"1 2 4\""
      ],
      "metadata": {
        "id": "z1DvhLqypQAL",
        "colab": {
          "base_uri": "https://localhost:8080/"
        },
        "outputId": "8ae9a91a-52cf-4e6a-c9e6-9bbac55a56ae"
      },
      "execution_count": null,
      "outputs": [
        {
          "output_type": "stream",
          "name": "stdout",
          "text": [
            "<class 'list'>\n",
            "<class 'numpy.ndarray'>\n",
            "(3,)\n",
            "1 2 3\n",
            "[5 2 3]\n",
            "(2, 3)\n",
            "1 2 4\n"
          ]
        }
      ]
    },
    {
      "cell_type": "markdown",
      "source": [
        "Create numpy arrays"
      ],
      "metadata": {
        "id": "8t9IMbqapxBX"
      }
    },
    {
      "cell_type": "code",
      "source": [
        "import numpy as np\n",
        "\n",
        "a = np.zeros((2,2))   # Create an array of all zeros\n",
        "print(a)              # Prints \"[[ 0.  0.]\n",
        "                      #          [ 0.  0.]]\"\n",
        "\n",
        "b = np.ones((1,2))    # Create an array of all ones\n",
        "print(b)              # Prints \"[[ 1.  1.]]\"\n",
        "\n",
        "c = np.full((2,2), 7)  # Create a constant array\n",
        "print(c)               # Prints \"[[ 7.  7.]\n",
        "#                        #          [ 7.  7.]]\"\n",
        "\n",
        "d = np.eye(2)         # Create a 2x2 identity matrix\n",
        "print(d)              # Prints \"[[ 1.  0.]\n",
        "                      #          [ 0.  1.]]\"\n",
        "\n",
        "e = np.random.random((2,2))  # Create an array filled with random values\n",
        "print(e)                     # Might print \"[[ 0.91940167  0.08143941]\n",
        "                             #               [ 0.68744134  0.87236687]]\""
      ],
      "metadata": {
        "id": "c_HGa_E6ptYN",
        "colab": {
          "base_uri": "https://localhost:8080/"
        },
        "outputId": "545578fc-31eb-42e5-d5ea-793387dcf850"
      },
      "execution_count": null,
      "outputs": [
        {
          "output_type": "stream",
          "name": "stdout",
          "text": [
            "[[0. 0.]\n",
            " [0. 0.]]\n",
            "[[1. 1.]]\n",
            "[[7 7]\n",
            " [7 7]]\n",
            "[[1. 0.]\n",
            " [0. 1.]]\n",
            "[[0.46132095 0.58653583]\n",
            " [0.7897327  0.12477897]]\n"
          ]
        }
      ]
    },
    {
      "cell_type": "code",
      "source": [
        "mul = np.matmul(a,c)\n",
        "mul"
      ],
      "metadata": {
        "colab": {
          "base_uri": "https://localhost:8080/"
        },
        "id": "UIlHKJcI41Bw",
        "outputId": "610fd6f2-834c-4311-ef99-6bf8ff38b6d2"
      },
      "execution_count": null,
      "outputs": [
        {
          "output_type": "execute_result",
          "data": {
            "text/plain": [
              "array([[0., 0.],\n",
              "       [0., 0.]])"
            ]
          },
          "metadata": {},
          "execution_count": 26
        }
      ]
    },
    {
      "cell_type": "markdown",
      "source": [
        "## **Section 5.1** Array Indexing"
      ],
      "metadata": {
        "id": "nhkmOYVKp5aN"
      }
    },
    {
      "cell_type": "markdown",
      "source": [
        "Slicing"
      ],
      "metadata": {
        "id": "p08nh2ivqB3T"
      }
    },
    {
      "cell_type": "code",
      "source": [
        "import numpy as np\n",
        "\n",
        "# Create the following rank 2 array with shape (3, 4)\n",
        "# [[ 1  2  3  4]\n",
        "#  [ 5  6  7  8]\n",
        "#  [ 9 10 11 12]]\n",
        "a = np.array([[1,2,3,4], [5,6,7,8], [9,10,11,12]])\n",
        "print(a.shape)\n",
        "# Use slicing to pull out the subarray consisting of the first 2 rows\n",
        "# and columns 1 and 2; b is the following array of shape (2, 2):\n",
        "# [[2 3]\n",
        "#  [6 7]]\n",
        "b = a[:2, 1:3]\n",
        "print(b)\n",
        "# A slice of an array is a view into the same data, so modifying it\n",
        "# will modify the original array.\n",
        "print(a[0, 1])   # Prints \"2\"\n",
        "b[0, 0] = 77     # b[0, 0] is the same piece of data as a[0, 1]\n",
        "print(b)\n",
        "print(a[0, 1])   # Prints \"77\""
      ],
      "metadata": {
        "id": "PPbPaaj3p8Cw"
      },
      "execution_count": null,
      "outputs": []
    },
    {
      "cell_type": "markdown",
      "source": [
        "Mix integer and slice indexing"
      ],
      "metadata": {
        "id": "QP3hFNeMqcUv"
      }
    },
    {
      "cell_type": "code",
      "source": [
        "import numpy as np\n",
        "\n",
        "# Create the following rank 2 array with shape (3, 4)\n",
        "# [[ 1  2  3  4]\n",
        "#  [ 5  6  7  8]\n",
        "#  [ 9 10 11 12]]\n",
        "a = np.array([[1,2,3,4], [5,6,7,8], [9,10,11,12]])\n",
        "\n",
        "# Two ways of accessing the data in the middle row of the array.\n",
        "# Mixing integer indexing with slices yields an array of lower rank,\n",
        "# while using only slices yields an array of the same rank as the\n",
        "# original array:\n",
        "row_r1 = a[1, :]    # Rank 1 view of the second row of a\n",
        "row_r2 = a[1:2, :]  # Rank 2 view of the second row of a\n",
        "print(row_r1, row_r1.shape)  # Prints \"[5 6 7 8] (4,)\"\n",
        "print(row_r2, row_r2.shape)  # Prints \"[[5 6 7 8]] (1, 4)\"\n",
        "\n",
        "# We can make the same distinction when accessing columns of an array:\n",
        "col_r1 = a[:, 1]\n",
        "col_r2 = a[:, 1:2]\n",
        "print(col_r1, col_r1.shape)  # Prints \"[ 2  6 10] (3,)\"\n",
        "print(col_r2, col_r2.shape)  # Prints \"[[ 2]\n",
        "                             #          [ 6]\n",
        "                             #          [10]] (3, 1)\""
      ],
      "metadata": {
        "id": "Eg2QeKNxqerJ"
      },
      "execution_count": null,
      "outputs": []
    },
    {
      "cell_type": "markdown",
      "source": [
        "Boolean array indexing: Boolean array indexing lets you pick out arbitrary elements of an array."
      ],
      "metadata": {
        "id": "oTrNwhoqrWE5"
      }
    },
    {
      "cell_type": "code",
      "source": [
        "import numpy as np\n",
        "\n",
        "a = np.array([[1,2], [3, 4], [5, 6]])\n",
        "\n",
        "bool_idx = (a > 2)   # Find the elements of a that are bigger than 2;\n",
        "                     # this returns a numpy array of Booleans of the same\n",
        "                     # shape as a, where each slot of bool_idx tells\n",
        "                     # whether that element of a is > 2.\n",
        "\n",
        "print(bool_idx)      # Prints \"[[False False]\n",
        "                     #          [ True  True]\n",
        "                     #          [ True  True]]\"\n",
        "\n",
        "# We use boolean array indexing to construct a rank 1 array\n",
        "# consisting of the elements of a corresponding to the True values\n",
        "# of bool_idx\n",
        "print(a[bool_idx])  # Prints \"[3 4 5 6]\"\n",
        "\n",
        "# We can do all of the above in a single concise statement:\n",
        "print(a[a > 2])     # Prints \"[3 4 5 6]\""
      ],
      "metadata": {
        "id": "XCRE2S5IrVdE"
      },
      "execution_count": null,
      "outputs": []
    },
    {
      "cell_type": "markdown",
      "source": [
        "## **Section 6:** Basic Pandas Concepts\n"
      ],
      "metadata": {
        "id": "VE4Ly8uSYKMq"
      }
    },
    {
      "cell_type": "code",
      "source": [
        "import pandas as pd"
      ],
      "metadata": {
        "id": "pbWOi8c5YL6-"
      },
      "execution_count": null,
      "outputs": []
    },
    {
      "cell_type": "markdown",
      "source": [
        "#### Create a simple DataFrame\n",
        "DataFrame is a 2-dimensional labeled data structure with columns of potentially different types.\n",
        "\n",
        "- syntax: pd.DataFrame({column1 : value1, column2 : value2, column3 : value3})\n",
        "\n",
        "Values can be of any datatype. Only constraint is that each list should be of equal length"
      ],
      "metadata": {
        "id": "3iQsfs8aYdLg"
      }
    },
    {
      "cell_type": "code",
      "source": [
        "df = pd.DataFrame({'name':['Bob','Jen','Tim'],\n",
        "                   'age':[20,30,40],\n",
        "                   'pet':['cat', 'dog', 'bird'],\n",
        "                   'monthly_salary': [10000,20000,30000]})\n",
        "\n",
        "df"
      ],
      "metadata": {
        "id": "RSewATmCYeC-",
        "colab": {
          "base_uri": "https://localhost:8080/",
          "height": 143
        },
        "outputId": "a0c5f125-b423-4e13-f652-7284b4e60a39"
      },
      "execution_count": null,
      "outputs": [
        {
          "output_type": "execute_result",
          "data": {
            "text/plain": [
              "  name  age   pet  monthly_salary\n",
              "0  Bob   20   cat           10000\n",
              "1  Jen   30   dog           20000\n",
              "2  Tim   40  bird           30000"
            ],
            "text/html": [
              "\n",
              "  <div id=\"df-a3817f51-63aa-48b8-8318-9bea4f44daae\">\n",
              "    <div class=\"colab-df-container\">\n",
              "      <div>\n",
              "<style scoped>\n",
              "    .dataframe tbody tr th:only-of-type {\n",
              "        vertical-align: middle;\n",
              "    }\n",
              "\n",
              "    .dataframe tbody tr th {\n",
              "        vertical-align: top;\n",
              "    }\n",
              "\n",
              "    .dataframe thead th {\n",
              "        text-align: right;\n",
              "    }\n",
              "</style>\n",
              "<table border=\"1\" class=\"dataframe\">\n",
              "  <thead>\n",
              "    <tr style=\"text-align: right;\">\n",
              "      <th></th>\n",
              "      <th>name</th>\n",
              "      <th>age</th>\n",
              "      <th>pet</th>\n",
              "      <th>monthly_salary</th>\n",
              "    </tr>\n",
              "  </thead>\n",
              "  <tbody>\n",
              "    <tr>\n",
              "      <th>0</th>\n",
              "      <td>Bob</td>\n",
              "      <td>20</td>\n",
              "      <td>cat</td>\n",
              "      <td>10000</td>\n",
              "    </tr>\n",
              "    <tr>\n",
              "      <th>1</th>\n",
              "      <td>Jen</td>\n",
              "      <td>30</td>\n",
              "      <td>dog</td>\n",
              "      <td>20000</td>\n",
              "    </tr>\n",
              "    <tr>\n",
              "      <th>2</th>\n",
              "      <td>Tim</td>\n",
              "      <td>40</td>\n",
              "      <td>bird</td>\n",
              "      <td>30000</td>\n",
              "    </tr>\n",
              "  </tbody>\n",
              "</table>\n",
              "</div>\n",
              "      <button class=\"colab-df-convert\" onclick=\"convertToInteractive('df-a3817f51-63aa-48b8-8318-9bea4f44daae')\"\n",
              "              title=\"Convert this dataframe to an interactive table.\"\n",
              "              style=\"display:none;\">\n",
              "        \n",
              "  <svg xmlns=\"http://www.w3.org/2000/svg\" height=\"24px\"viewBox=\"0 0 24 24\"\n",
              "       width=\"24px\">\n",
              "    <path d=\"M0 0h24v24H0V0z\" fill=\"none\"/>\n",
              "    <path d=\"M18.56 5.44l.94 2.06.94-2.06 2.06-.94-2.06-.94-.94-2.06-.94 2.06-2.06.94zm-11 1L8.5 8.5l.94-2.06 2.06-.94-2.06-.94L8.5 2.5l-.94 2.06-2.06.94zm10 10l.94 2.06.94-2.06 2.06-.94-2.06-.94-.94-2.06-.94 2.06-2.06.94z\"/><path d=\"M17.41 7.96l-1.37-1.37c-.4-.4-.92-.59-1.43-.59-.52 0-1.04.2-1.43.59L10.3 9.45l-7.72 7.72c-.78.78-.78 2.05 0 2.83L4 21.41c.39.39.9.59 1.41.59.51 0 1.02-.2 1.41-.59l7.78-7.78 2.81-2.81c.8-.78.8-2.07 0-2.86zM5.41 20L4 18.59l7.72-7.72 1.47 1.35L5.41 20z\"/>\n",
              "  </svg>\n",
              "      </button>\n",
              "      \n",
              "  <style>\n",
              "    .colab-df-container {\n",
              "      display:flex;\n",
              "      flex-wrap:wrap;\n",
              "      gap: 12px;\n",
              "    }\n",
              "\n",
              "    .colab-df-convert {\n",
              "      background-color: #E8F0FE;\n",
              "      border: none;\n",
              "      border-radius: 50%;\n",
              "      cursor: pointer;\n",
              "      display: none;\n",
              "      fill: #1967D2;\n",
              "      height: 32px;\n",
              "      padding: 0 0 0 0;\n",
              "      width: 32px;\n",
              "    }\n",
              "\n",
              "    .colab-df-convert:hover {\n",
              "      background-color: #E2EBFA;\n",
              "      box-shadow: 0px 1px 2px rgba(60, 64, 67, 0.3), 0px 1px 3px 1px rgba(60, 64, 67, 0.15);\n",
              "      fill: #174EA6;\n",
              "    }\n",
              "\n",
              "    [theme=dark] .colab-df-convert {\n",
              "      background-color: #3B4455;\n",
              "      fill: #D2E3FC;\n",
              "    }\n",
              "\n",
              "    [theme=dark] .colab-df-convert:hover {\n",
              "      background-color: #434B5C;\n",
              "      box-shadow: 0px 1px 3px 1px rgba(0, 0, 0, 0.15);\n",
              "      filter: drop-shadow(0px 1px 2px rgba(0, 0, 0, 0.3));\n",
              "      fill: #FFFFFF;\n",
              "    }\n",
              "  </style>\n",
              "\n",
              "      <script>\n",
              "        const buttonEl =\n",
              "          document.querySelector('#df-a3817f51-63aa-48b8-8318-9bea4f44daae button.colab-df-convert');\n",
              "        buttonEl.style.display =\n",
              "          google.colab.kernel.accessAllowed ? 'block' : 'none';\n",
              "\n",
              "        async function convertToInteractive(key) {\n",
              "          const element = document.querySelector('#df-a3817f51-63aa-48b8-8318-9bea4f44daae');\n",
              "          const dataTable =\n",
              "            await google.colab.kernel.invokeFunction('convertToInteractive',\n",
              "                                                     [key], {});\n",
              "          if (!dataTable) return;\n",
              "\n",
              "          const docLinkHtml = 'Like what you see? Visit the ' +\n",
              "            '<a target=\"_blank\" href=https://colab.research.google.com/notebooks/data_table.ipynb>data table notebook</a>'\n",
              "            + ' to learn more about interactive tables.';\n",
              "          element.innerHTML = '';\n",
              "          dataTable['output_type'] = 'display_data';\n",
              "          await google.colab.output.renderOutput(dataTable, element);\n",
              "          const docLink = document.createElement('div');\n",
              "          docLink.innerHTML = docLinkHtml;\n",
              "          element.appendChild(docLink);\n",
              "        }\n",
              "      </script>\n",
              "    </div>\n",
              "  </div>\n",
              "  "
            ]
          },
          "metadata": {},
          "execution_count": 29
        }
      ]
    },
    {
      "cell_type": "code",
      "source": [
        "df.monthly_salary"
      ],
      "metadata": {
        "id": "S3Llud0LyOKf",
        "colab": {
          "base_uri": "https://localhost:8080/"
        },
        "outputId": "87bb3e29-0353-4f51-e057-936e02ae3427"
      },
      "execution_count": null,
      "outputs": [
        {
          "output_type": "execute_result",
          "data": {
            "text/plain": [
              "0    10000\n",
              "1    20000\n",
              "2    30000\n",
              "Name: monthly_salary, dtype: int64"
            ]
          },
          "metadata": {},
          "execution_count": 30
        }
      ]
    },
    {
      "cell_type": "markdown",
      "source": [
        "#### View the column names and index values\n",
        "\n",
        "The index is one of the most important concepts in pandas.\n",
        "\n",
        "Each dataframe has only a single index which is always available as `df.index` and if you do not supply one (as we did not for this dataframe) a new one is made automatically.\n",
        "\n",
        "Indexes define how to access rows of the dataframe.\n",
        "\n",
        "The simplest index is the range index but there are more complex ones like interval index, datetime index and multi index."
      ],
      "metadata": {
        "id": "aM_nk8ONYkvX"
      }
    },
    {
      "cell_type": "code",
      "source": [
        "print(df.columns)\n",
        "print(df.index)"
      ],
      "metadata": {
        "id": "6KY5vwocYgqM",
        "colab": {
          "base_uri": "https://localhost:8080/"
        },
        "outputId": "eb2ce2bc-f21c-4145-f1a0-a4b97dd4bcff"
      },
      "execution_count": null,
      "outputs": [
        {
          "output_type": "stream",
          "name": "stdout",
          "text": [
            "Index(['name', 'age', 'pet', 'monthly_salary'], dtype='object')\n",
            "RangeIndex(start=0, stop=3, step=1)\n"
          ]
        }
      ]
    },
    {
      "cell_type": "markdown",
      "source": [
        "#### Select a column by name in 2 different ways\n",
        "\n",
        "These two ways are equivalent and can be used interchangeably almost always."
      ],
      "metadata": {
        "id": "AnoQ_dPtYn4p"
      }
    },
    {
      "cell_type": "code",
      "source": [
        "print(df['name'])\n",
        "print(df.name)"
      ],
      "metadata": {
        "id": "SpOWq9McYye6",
        "colab": {
          "base_uri": "https://localhost:8080/"
        },
        "outputId": "736333d3-4ff4-4b87-cc1c-9dcabbfa6b37"
      },
      "execution_count": null,
      "outputs": [
        {
          "output_type": "stream",
          "name": "stdout",
          "text": [
            "0    Bob\n",
            "1    Jen\n",
            "2    Tim\n",
            "Name: name, dtype: object\n",
            "0    Bob\n",
            "1    Jen\n",
            "2    Tim\n",
            "Name: name, dtype: object\n"
          ]
        }
      ]
    },
    {
      "cell_type": "markdown",
      "source": [
        "**Caution:**\n",
        "The primary exception is when the name of the column contains spaces. If for example we had a column called \"monthly profit\" we have to use `df['monthly profit']` because `df.monthly profit` is a syntactic error."
      ],
      "metadata": {
        "id": "jfYX9zmlW8_M"
      }
    },
    {
      "cell_type": "markdown",
      "source": [
        "#### Select multiple columns\n",
        "\n",
        "To select multiple columns we use `df[columns_to_select]` where `columns_to_select` are the columns we are interested in given as a simple python list. As the result we will get another data frame.\n",
        "\n",
        "This is the equivalent of listing columns names in `SELECT` part of a sql query."
      ],
      "metadata": {
        "id": "6qeHDsfvY0uJ"
      }
    },
    {
      "cell_type": "code",
      "source": [
        "df['name']"
      ],
      "metadata": {
        "id": "6y6wifWWzkkA",
        "colab": {
          "base_uri": "https://localhost:8080/"
        },
        "outputId": "4d89b20e-1966-4e78-d045-2dd6a3888b8e"
      },
      "execution_count": null,
      "outputs": [
        {
          "output_type": "execute_result",
          "data": {
            "text/plain": [
              "0    Bob\n",
              "1    Jen\n",
              "2    Tim\n",
              "Name: name, dtype: object"
            ]
          },
          "metadata": {},
          "execution_count": 33
        }
      ]
    },
    {
      "cell_type": "code",
      "source": [
        "df[['name','pet','monthly_salary']]\n",
        "# df"
      ],
      "metadata": {
        "id": "__KG4sisY30i",
        "colab": {
          "base_uri": "https://localhost:8080/",
          "height": 143
        },
        "outputId": "5d8e2490-86fc-4766-d91c-3e062fec04a3"
      },
      "execution_count": null,
      "outputs": [
        {
          "output_type": "execute_result",
          "data": {
            "text/plain": [
              "  name   pet  monthly_salary\n",
              "0  Bob   cat           10000\n",
              "1  Jen   dog           20000\n",
              "2  Tim  bird           30000"
            ],
            "text/html": [
              "\n",
              "  <div id=\"df-73a2d55f-beed-4519-b109-3f85fca0eb74\">\n",
              "    <div class=\"colab-df-container\">\n",
              "      <div>\n",
              "<style scoped>\n",
              "    .dataframe tbody tr th:only-of-type {\n",
              "        vertical-align: middle;\n",
              "    }\n",
              "\n",
              "    .dataframe tbody tr th {\n",
              "        vertical-align: top;\n",
              "    }\n",
              "\n",
              "    .dataframe thead th {\n",
              "        text-align: right;\n",
              "    }\n",
              "</style>\n",
              "<table border=\"1\" class=\"dataframe\">\n",
              "  <thead>\n",
              "    <tr style=\"text-align: right;\">\n",
              "      <th></th>\n",
              "      <th>name</th>\n",
              "      <th>pet</th>\n",
              "      <th>monthly_salary</th>\n",
              "    </tr>\n",
              "  </thead>\n",
              "  <tbody>\n",
              "    <tr>\n",
              "      <th>0</th>\n",
              "      <td>Bob</td>\n",
              "      <td>cat</td>\n",
              "      <td>10000</td>\n",
              "    </tr>\n",
              "    <tr>\n",
              "      <th>1</th>\n",
              "      <td>Jen</td>\n",
              "      <td>dog</td>\n",
              "      <td>20000</td>\n",
              "    </tr>\n",
              "    <tr>\n",
              "      <th>2</th>\n",
              "      <td>Tim</td>\n",
              "      <td>bird</td>\n",
              "      <td>30000</td>\n",
              "    </tr>\n",
              "  </tbody>\n",
              "</table>\n",
              "</div>\n",
              "      <button class=\"colab-df-convert\" onclick=\"convertToInteractive('df-73a2d55f-beed-4519-b109-3f85fca0eb74')\"\n",
              "              title=\"Convert this dataframe to an interactive table.\"\n",
              "              style=\"display:none;\">\n",
              "        \n",
              "  <svg xmlns=\"http://www.w3.org/2000/svg\" height=\"24px\"viewBox=\"0 0 24 24\"\n",
              "       width=\"24px\">\n",
              "    <path d=\"M0 0h24v24H0V0z\" fill=\"none\"/>\n",
              "    <path d=\"M18.56 5.44l.94 2.06.94-2.06 2.06-.94-2.06-.94-.94-2.06-.94 2.06-2.06.94zm-11 1L8.5 8.5l.94-2.06 2.06-.94-2.06-.94L8.5 2.5l-.94 2.06-2.06.94zm10 10l.94 2.06.94-2.06 2.06-.94-2.06-.94-.94-2.06-.94 2.06-2.06.94z\"/><path d=\"M17.41 7.96l-1.37-1.37c-.4-.4-.92-.59-1.43-.59-.52 0-1.04.2-1.43.59L10.3 9.45l-7.72 7.72c-.78.78-.78 2.05 0 2.83L4 21.41c.39.39.9.59 1.41.59.51 0 1.02-.2 1.41-.59l7.78-7.78 2.81-2.81c.8-.78.8-2.07 0-2.86zM5.41 20L4 18.59l7.72-7.72 1.47 1.35L5.41 20z\"/>\n",
              "  </svg>\n",
              "      </button>\n",
              "      \n",
              "  <style>\n",
              "    .colab-df-container {\n",
              "      display:flex;\n",
              "      flex-wrap:wrap;\n",
              "      gap: 12px;\n",
              "    }\n",
              "\n",
              "    .colab-df-convert {\n",
              "      background-color: #E8F0FE;\n",
              "      border: none;\n",
              "      border-radius: 50%;\n",
              "      cursor: pointer;\n",
              "      display: none;\n",
              "      fill: #1967D2;\n",
              "      height: 32px;\n",
              "      padding: 0 0 0 0;\n",
              "      width: 32px;\n",
              "    }\n",
              "\n",
              "    .colab-df-convert:hover {\n",
              "      background-color: #E2EBFA;\n",
              "      box-shadow: 0px 1px 2px rgba(60, 64, 67, 0.3), 0px 1px 3px 1px rgba(60, 64, 67, 0.15);\n",
              "      fill: #174EA6;\n",
              "    }\n",
              "\n",
              "    [theme=dark] .colab-df-convert {\n",
              "      background-color: #3B4455;\n",
              "      fill: #D2E3FC;\n",
              "    }\n",
              "\n",
              "    [theme=dark] .colab-df-convert:hover {\n",
              "      background-color: #434B5C;\n",
              "      box-shadow: 0px 1px 3px 1px rgba(0, 0, 0, 0.15);\n",
              "      filter: drop-shadow(0px 1px 2px rgba(0, 0, 0, 0.3));\n",
              "      fill: #FFFFFF;\n",
              "    }\n",
              "  </style>\n",
              "\n",
              "      <script>\n",
              "        const buttonEl =\n",
              "          document.querySelector('#df-73a2d55f-beed-4519-b109-3f85fca0eb74 button.colab-df-convert');\n",
              "        buttonEl.style.display =\n",
              "          google.colab.kernel.accessAllowed ? 'block' : 'none';\n",
              "\n",
              "        async function convertToInteractive(key) {\n",
              "          const element = document.querySelector('#df-73a2d55f-beed-4519-b109-3f85fca0eb74');\n",
              "          const dataTable =\n",
              "            await google.colab.kernel.invokeFunction('convertToInteractive',\n",
              "                                                     [key], {});\n",
              "          if (!dataTable) return;\n",
              "\n",
              "          const docLinkHtml = 'Like what you see? Visit the ' +\n",
              "            '<a target=\"_blank\" href=https://colab.research.google.com/notebooks/data_table.ipynb>data table notebook</a>'\n",
              "            + ' to learn more about interactive tables.';\n",
              "          element.innerHTML = '';\n",
              "          dataTable['output_type'] = 'display_data';\n",
              "          await google.colab.output.renderOutput(dataTable, element);\n",
              "          const docLink = document.createElement('div');\n",
              "          docLink.innerHTML = docLinkHtml;\n",
              "          element.appendChild(docLink);\n",
              "        }\n",
              "      </script>\n",
              "    </div>\n",
              "  </div>\n",
              "  "
            ]
          },
          "metadata": {},
          "execution_count": 37
        }
      ]
    },
    {
      "cell_type": "markdown",
      "source": [
        "#### Select a row by index\n",
        "We can always access any row in the dataframe using `.iloc[i]` for some integer i.\n",
        "\n",
        "The result is a series object from which we can access values by using column indexing."
      ],
      "metadata": {
        "id": "33qrmbs0Y3KZ"
      }
    },
    {
      "cell_type": "code",
      "source": [
        "df.iloc[1:2]"
      ],
      "metadata": {
        "id": "1b0ZBwcOY9XB"
      },
      "execution_count": null,
      "outputs": []
    },
    {
      "cell_type": "markdown",
      "source": [
        "#**Assignment 1**"
      ],
      "metadata": {
        "id": "kmJlSwOkZLi-"
      }
    },
    {
      "cell_type": "code",
      "source": [
        "# Dataset\n",
        "sales = [100,130,119,92,35]\n",
        "customer_account = ['B100','J101','X102','P103','R104']\n",
        "city = ['BOS','LA','NYC','SF','CHI']"
      ],
      "metadata": {
        "id": "45tgZNN1ZQej"
      },
      "execution_count": null,
      "outputs": []
    },
    {
      "cell_type": "markdown",
      "source": [
        "**Q1.** Create a DataFrame with the data above"
      ],
      "metadata": {
        "id": "5SnvUKc8ZXCA"
      }
    },
    {
      "cell_type": "code",
      "source": [
        "df2 = pd.DataFrame({'sales':sales,\n",
        "                    'customer_account':customer_account,\n",
        "                    'city':city})"
      ],
      "metadata": {
        "id": "Ad3XKMX8ZcXo"
      },
      "execution_count": null,
      "outputs": []
    },
    {
      "cell_type": "markdown",
      "source": [
        "**Q2.** What is the name of the first column?"
      ],
      "metadata": {
        "id": "qqFk756sZgtm"
      }
    },
    {
      "cell_type": "code",
      "source": [],
      "metadata": {
        "id": "SI0xiOhkZZ6t"
      },
      "execution_count": null,
      "outputs": []
    },
    {
      "cell_type": "markdown",
      "source": [
        "**Q3.** Which customer is in the last row of the DataFrame?"
      ],
      "metadata": {
        "id": "ZBGTlaWQZgK2"
      }
    },
    {
      "cell_type": "code",
      "source": [],
      "metadata": {
        "id": "Oj7V9vKTZoKw"
      },
      "execution_count": null,
      "outputs": []
    },
    {
      "cell_type": "markdown",
      "source": [
        "**Q4.** Access all information of customer 'X102'"
      ],
      "metadata": {
        "id": "hm2VTfNTZoi2"
      }
    },
    {
      "cell_type": "code",
      "source": [],
      "metadata": {
        "id": "M6K-iviVZy8y"
      },
      "execution_count": null,
      "outputs": []
    },
    {
      "cell_type": "markdown",
      "source": [
        "**Q5.** Print the first, 6th and last elements of the list [1,2,3,4,5,6,7,8,9,10] using list operations."
      ],
      "metadata": {
        "id": "_VGe8xh18so9"
      }
    },
    {
      "cell_type": "code",
      "source": [],
      "metadata": {
        "id": "ykSNhy6c897L"
      },
      "execution_count": null,
      "outputs": []
    },
    {
      "cell_type": "markdown",
      "source": [
        "**Q6.** Print the elements from indices 3 to 6 of the list [1,2,3,4,5,6,7,8,9,10] using list slicing."
      ],
      "metadata": {
        "id": "zkBtYNPR8-o4"
      }
    },
    {
      "cell_type": "code",
      "source": [],
      "metadata": {
        "id": "xhTXtPOE9LJV"
      },
      "execution_count": null,
      "outputs": []
    },
    {
      "cell_type": "markdown",
      "source": [
        "**Q7.** Write a function to check if the below variables are of integer variable type or string data type\n",
        "x = 156\n",
        "y = 'peter pan'\n",
        "z = 'hello123'\n",
        "\n",
        "You can use this as the starting point\n",
        "\n",
        "def check_data_type(var):\n",
        "\n",
        "\n",
        "  return"
      ],
      "metadata": {
        "id": "vqNpCEt-9MuV"
      }
    },
    {
      "cell_type": "code",
      "source": [],
      "metadata": {
        "id": "KdqvNOnV965W"
      },
      "execution_count": null,
      "outputs": []
    },
    {
      "cell_type": "markdown",
      "source": [
        "**Q7** Find the mean of the following numpy array named 'sample_array'\n",
        "\n",
        "sample_array = np.random.random((5,5))"
      ],
      "metadata": {
        "id": "N8OFJiIS-Ebn"
      }
    },
    {
      "cell_type": "code",
      "source": [],
      "metadata": {
        "id": "uYX4xD1z-WT4"
      },
      "execution_count": null,
      "outputs": []
    }
  ]
}