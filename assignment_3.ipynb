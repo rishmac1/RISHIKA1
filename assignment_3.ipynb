{
  "nbformat": 4,
  "nbformat_minor": 0,
  "metadata": {
    "colab": {
      "provenance": [],
      "authorship_tag": "ABX9TyN6U39fE+KH5l+UUt4wFB23",
      "include_colab_link": true
    },
    "kernelspec": {
      "name": "python3",
      "display_name": "Python 3"
    },
    "language_info": {
      "name": "python"
    }
  },
  "cells": [
    {
      "cell_type": "markdown",
      "metadata": {
        "id": "view-in-github",
        "colab_type": "text"
      },
      "source": [
        "<a href=\"https://colab.research.google.com/github/rishmac1/RISHIKA1/blob/main/assignment_3.ipynb\" target=\"_parent\"><img src=\"https://colab.research.google.com/assets/colab-badge.svg\" alt=\"Open In Colab\"/></a>"
      ]
    },
    {
      "cell_type": "code",
      "execution_count": null,
      "metadata": {
        "colab": {
          "base_uri": "https://localhost:8080/"
        },
        "id": "UKsqDraQ8RRg",
        "outputId": "5f9832d8-04ee-43c2-fcf5-323681265c43"
      },
      "outputs": [
        {
          "output_type": "stream",
          "name": "stdout",
          "text": [
            "enter a number of elements to be printed in the series: 10\n",
            "0\n",
            "1\n",
            "1\n",
            "2\n",
            "3\n",
            "5\n",
            "8\n",
            "13\n",
            "21\n",
            "34\n"
          ]
        }
      ],
      "source": [
        "a=int(input(\"enter a number of elements to be printed in the series: \"))\n",
        "b=0\n",
        "c=1\n",
        "for x in range(1,a+1):\n",
        "   print(b)\n",
        "   d=b+c\n",
        "   b=c\n",
        "   c=d"
      ]
    },
    {
      "cell_type": "code",
      "source": [
        "def fib(a):\n",
        "  if a<=1:\n",
        "    return a\n",
        "  else:\n",
        "    return fib(a-1)+fib(a-2)\n",
        "a=int(input(\"enter a number of elements to be printed in the series: \"))\n",
        "for i in range(0,a):\n",
        "  print(fib(i))"
      ],
      "metadata": {
        "colab": {
          "base_uri": "https://localhost:8080/"
        },
        "id": "eMzO2sy-CTeP",
        "outputId": "c5ef2f05-b148-4c02-f354-721a5bf2717e"
      },
      "execution_count": null,
      "outputs": [
        {
          "output_type": "stream",
          "name": "stdout",
          "text": [
            "enter a number of elements to be printed in the series: 10\n",
            "0\n",
            "1\n",
            "1\n",
            "2\n",
            "3\n",
            "5\n",
            "8\n",
            "13\n",
            "21\n",
            "34\n"
          ]
        }
      ]
    },
    {
      "cell_type": "code",
      "source": [
        "n=int(input(\"enter a position of element to be printed in the series: \"))\n",
        "fib= lambda n:n if n<=1 else fib(n-1)+fib(n-2)\n",
        "print(fib(n-1))\n",
        "\n"
      ],
      "metadata": {
        "colab": {
          "base_uri": "https://localhost:8080/"
        },
        "id": "MPojLozlN9hm",
        "outputId": "152e2d3d-991e-491b-f5b7-7117510e2925"
      },
      "execution_count": null,
      "outputs": [
        {
          "output_type": "stream",
          "name": "stdout",
          "text": [
            "enter a position of element to be printed in the series: 10\n",
            "34\n"
          ]
        }
      ]
    },
    {
      "cell_type": "code",
      "source": [
        "def get_permutation(string, i=0):\n",
        "  if i == len(string):\n",
        "    print(\"\".join(string))\n",
        "  for j in range(i, len(string)):\n",
        "    words = [c for c in string]\n",
        "    words[i], words[j] = words[j], words[i]\n",
        "    get_permutation(words, i + 1)\n",
        "print(get_permutation('abc'))"
      ],
      "metadata": {
        "colab": {
          "base_uri": "https://localhost:8080/"
        },
        "id": "aFt3xY_qZv-u",
        "outputId": "301af6cb-23cf-49fe-f819-09f0917b5603"
      },
      "execution_count": null,
      "outputs": [
        {
          "output_type": "stream",
          "name": "stdout",
          "text": [
            "abc\n",
            "acb\n",
            "bac\n",
            "bca\n",
            "cba\n",
            "cab\n",
            "None\n"
          ]
        }
      ]
    },
    {
      "cell_type": "code",
      "source": [
        "n=int(input(\"Enter a positive number: \"))\n",
        "flag=0\n",
        "if n<=1:\n",
        "  flag=1\n",
        "else:\n",
        "  for i in range(2,n):\n",
        "    if n%i==0:\n",
        "      flag=1\n",
        "if flag==0:\n",
        "  print(\"prime number\")\n",
        "else:\n",
        "  print(\"not a prime number\")"
      ],
      "metadata": {
        "colab": {
          "base_uri": "https://localhost:8080/"
        },
        "id": "oyf6jG1vjGHv",
        "outputId": "99b54e6b-fd2b-4b80-b474-f781af1a9f7f"
      },
      "execution_count": null,
      "outputs": [
        {
          "output_type": "stream",
          "name": "stdout",
          "text": [
            "Enter a positive number: 25\n",
            "not a prime number\n"
          ]
        }
      ]
    },
    {
      "cell_type": "code",
      "source": [
        "import pandas as pd\n",
        "import numpy as np\n",
        "\n",
        "column=['a','b','c','d','e']\n",
        "index=['A','B','C','D','E']\n",
        "df1 = pd.DataFrame(np.random.rand(5,5),\n",
        "           columns=column, index=index)\n",
        "column=['e','a','b','c','d']\n",
        "print(df1.reindex(column, axis='columns'))"
      ],
      "metadata": {
        "colab": {
          "base_uri": "https://localhost:8080/"
        },
        "id": "qfvdK62xmGe4",
        "outputId": "b8c850aa-f189-4226-e3b0-4d06e2aecf56"
      },
      "execution_count": null,
      "outputs": [
        {
          "output_type": "stream",
          "name": "stdout",
          "text": [
            "          e         a         b         c         d\n",
            "A  0.129121  0.270779  0.720392  0.308271  0.640020\n",
            "B  0.240170  0.153284  0.323362  0.817118  0.336770\n",
            "C  0.243578  0.138480  0.413071  0.691979  0.651940\n",
            "D  0.569280  0.634902  0.320607  0.251694  0.279106\n",
            "E  0.648459  0.259887  0.067420  0.216236  0.243624\n"
          ]
        }
      ]
    },
    {
      "cell_type": "code",
      "source": [
        "import pandas as pd\n",
        "students = [['jackma', 34, 'Sydeny', 'Australia'],\n",
        "            ['Ritika', 30, 'Delhi', 'India'],\n",
        "            ['Vansh', 31, 'Delhi', 'India'],\n",
        "            ['Nany', 32, 'Tokyo', 'Japan'],\n",
        "            ['May', 16, 'New York', 'US'],\n",
        "            ['Michael', 17, 'las vegas', 'US']]\n",
        "df = pd.DataFrame(students,\n",
        "                  columns=['Name', 'Age', 'City', 'Country'],\n",
        "                  index=['a', 'b', 'c', 'd', 'e', 'f'])\n",
        "dic={\"jackma\":'85%','Ritika': '90%','Vansh': '75%','Nany': '35%','May': '60%','Michael': '80%'}\n",
        "df[\"Percentage\"]=df[\"Name\"].map(dic)\n",
        "print(df)"
      ],
      "metadata": {
        "colab": {
          "base_uri": "https://localhost:8080/"
        },
        "id": "zbmUEcXetK9R",
        "outputId": "6ae61b8c-3d08-4fe6-ae3c-ceba28ba840b"
      },
      "execution_count": null,
      "outputs": [
        {
          "output_type": "stream",
          "name": "stdout",
          "text": [
            "{'jackma': '85%', 'Ritika': '90%', 'Vansh': '75%', 'Nany': '35%', 'May': '60%', 'Michael': '80%'}\n",
            "      Name  Age       City    Country Percentage\n",
            "a   jackma   34     Sydeny  Australia        85%\n",
            "b   Ritika   30      Delhi      India        90%\n",
            "c    Vansh   31      Delhi      India        75%\n",
            "d     Nany   32      Tokyo      Japan        35%\n",
            "e      May   16   New York         US        60%\n",
            "f  Michael   17  las vegas         US        80%\n"
          ]
        }
      ]
    },
    {
      "cell_type": "code",
      "source": [
        "import numpy as np\n",
        "n_array = np.array([[55, 25, 15],\n",
        "                    [30, 44, 2],\n",
        "                    [11, 45, 77]])\n",
        "n= int(n_array.shape[0])\n",
        "print(\"Numpy Matrix is:\")\n",
        "print(n_array)\n",
        "det = np.linalg.det(n_array)\n",
        "print(\"\\nDeterminant of given\", n, \"X\" ,n, \"square matrix:\")\n",
        "print(int(det))"
      ],
      "metadata": {
        "colab": {
          "base_uri": "https://localhost:8080/"
        },
        "id": "BFAsf7i8wKby",
        "outputId": "228aa16b-283b-4a30-ec09-5a08ccb9dba6"
      },
      "execution_count": null,
      "outputs": [
        {
          "output_type": "stream",
          "name": "stdout",
          "text": [
            "Numpy Matrix is:\n",
            "[[55 25 15]\n",
            " [30 44  2]\n",
            " [11 45 77]]\n",
            "\n",
            "Determinant of given 3 X 3 square matrix:\n",
            "137180\n"
          ]
        }
      ]
    }
  ]
}